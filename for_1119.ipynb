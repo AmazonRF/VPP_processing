{
 "cells": [
  {
   "cell_type": "code",
   "execution_count": null,
   "metadata": {
    "ExecuteTime": {
     "end_time": "2019-10-09T19:53:35.457575Z",
     "start_time": "2019-10-09T19:53:29.207170Z"
    }
   },
   "outputs": [],
   "source": [
    "import matplotlib.pyplot as plt\n",
    "import numpy as np\n",
    "import pandas as pd\n",
    "import scipy.ndimage as ndi\n",
    "import seaborn as sns\n",
    "import pyfftw\n",
    "import pyfftw.interfaces.numpy_fft as fft\n",
    "from pyem import star\n",
    "from pyem import mrc\n",
    "from pyem import geom\n",
    "from pyem import vop\n",
    "from pyem import ctf\n",
    "from skimage import io\n",
    "from PIL import Image\n",
    "sns.set()\n",
    "%matplotlib inline"
   ]
  },
  {
   "source": [
    "import the .tif image"
   ],
   "cell_type": "markdown",
   "metadata": {}
  },
  {
   "cell_type": "code",
   "execution_count": null,
   "metadata": {},
   "outputs": [],
   "source": [
    "file = '/Users/amazonrf/Desktop/data_1109/20201119_yangzi/GVPP_#2_p4_19kx_I51.24_cool5.tif'\n",
    "filet = '/Users/amazonrf/Desktop/data_1109/20201119_yangzi/GVPP_#2_p4_19kx_I51.24_cool6.tif'\n",
    "im = Image.open(file)\n",
    "imarray = np.array(im)\n",
    "del im"
   ]
  },
  {
   "source": [
    "filter "
   ],
   "cell_type": "markdown",
   "metadata": {}
  },
  {
   "cell_type": "code",
   "execution_count": null,
   "metadata": {},
   "outputs": [],
   "source": [
    "imarray_f = fft.fftshift(fft.fft2(imarray))\n",
    "imarray_f_show = np.log(np.abs(imarray_f))\n",
    "\n",
    "l = imarray_f.shape[0]\n",
    "filter_x = np.linspace(-1,1,l)\n",
    "filter_xx,filter_yy = np.meshgrid(filter_x,filter_x)\n",
    "\n",
    "filter_ = filter_xx**2+ filter_yy**2\n",
    "filter_[filter_>=0.5**2] = 0\n",
    "filter_[filter_ != 0] =1\n",
    "\n",
    "del filter_x,filter_xx,filter_yy\n",
    "\n",
    "imarray_f_filter = imarray_f * filter_\n",
    "imarray_filter = fft.irfft2(fft.fftshift(imarray_f_filter)[:,0:l//2])\n",
    "\n",
    "del imarray_f,imarray_f_filter,imarray_f_show,filter_\n",
    "plt.imshow(imarray_filter)\n",
    "plt.grid(None)"
   ]
  },
  {
   "source": [
    "find the biggest and minus value"
   ],
   "cell_type": "markdown",
   "metadata": {}
  },
  {
   "cell_type": "code",
   "execution_count": null,
   "metadata": {},
   "outputs": [],
   "source": [
    "max_v = np.max(imarray_filter)\n",
    "min_v = np.min(imarray_filter)\n",
    "\n",
    "print(max_v,min_v)"
   ]
  },
  {
   "source": [
    "adjust into same "
   ],
   "cell_type": "markdown",
   "metadata": {}
  },
  {
   "cell_type": "code",
   "execution_count": null,
   "metadata": {},
   "outputs": [],
   "source": [
    "imarray_filter_adj = 255*(imarray_filter - min_v)/(max_v-min_v)\n",
    "del imarray_filter,min_v,max_v\n",
    "plt.imshow(imarray_filter_adj)\n",
    "plt.grid(None)\n",
    "print(np.max(imarray_filter_adj),np.min(imarray_filter_adj))"
   ]
  },
  {
   "source": [
    "Generate in to function"
   ],
   "cell_type": "markdown",
   "metadata": {}
  },
  {
   "cell_type": "code",
   "execution_count": null,
   "metadata": {},
   "outputs": [],
   "source": [
    "def read_norm(file):\n",
    "\n",
    "    im = Image.open(file)\n",
    "    imarray = np.array(im)\n",
    "    del im\n",
    "\n",
    "    imarray_f = fft.fftshift(fft.fft2(imarray))\n",
    "    imarray_f_show = np.log(np.abs(imarray_f))\n",
    "\n",
    "    l = imarray_f.shape[0]\n",
    "    filter_x = np.linspace(-1,1,l)\n",
    "    filter_xx,filter_yy = np.meshgrid(filter_x,filter_x)\n",
    "\n",
    "    filter_ = filter_xx**2+ filter_yy**2\n",
    "    filter_[filter_>=0.5**2] = 0\n",
    "    filter_[filter_ != 0] =1\n",
    "\n",
    "    del filter_x,filter_xx,filter_yy\n",
    "\n",
    "    imarray_f_filter = imarray_f * filter_\n",
    "    imarray_filter = fft.irfft2(fft.fftshift(imarray_f_filter)[:,0:l//2+1])\n",
    "\n",
    "    del imarray_f,imarray_f_filter,imarray_f_show,filter_\n",
    "   \n",
    "    max_v = np.max(imarray_filter)\n",
    "    min_v = np.min(imarray_filter)\n",
    "\n",
    "\n",
    "    imarray_filter_adj = 255*(imarray_filter - min_v)/(max_v-min_v)\n",
    "    del imarray_filter,min_v,max_v\n",
    "   \n",
    "    # print(np.max(imarray_filter_adj),np.min(imarray_filter_adj))\n",
    "\n",
    "    del imarray, l\n",
    "    return imarray_filter_adj"
   ]
  },
  {
   "cell_type": "code",
   "execution_count": null,
   "metadata": {},
   "outputs": [],
   "source": [
    "test_f = read_norm('/Users/amazonrf/Desktop/data_1109/20201119_yangzi/GVPP_#2_p4_19kx_I51.24_exp1.tif')\n",
    "plt.imshow(test_f)\n",
    "plt.grid(None)"
   ]
  },
  {
   "source": [
    "clear the camera gain"
   ],
   "cell_type": "markdown",
   "metadata": {}
  },
  {
   "cell_type": "code",
   "execution_count": null,
   "metadata": {},
   "outputs": [],
   "source": [
    "bg = read_norm('/Users/amazonrf/Desktop/data_1109/20201119_yangzi/camera_background.tif')\n",
    "plt.imshow(test_f-bg)\n",
    "plt.grid(None)\n",
    "\n",
    "del bg,test_f"
   ]
  },
  {
   "cell_type": "code",
   "execution_count": null,
   "metadata": {},
   "outputs": [],
   "source": [
    "def read_norm_bg(file):\n",
    "    \n",
    "    bg = read_norm('/Users/amazonrf/Desktop/data_1109/20201119_yangzi/camera_background.tif')\n",
    "    im = read_norm(file)\n",
    "\n",
    "    return im-bg"
   ]
  },
  {
   "cell_type": "code",
   "execution_count": null,
   "metadata": {},
   "outputs": [],
   "source": [
    "file = '/Users/amazonrf/Desktop/data_1109/20201119_yangzi/GVPP_#2_p4_19kx_I51.24_exp1.tif'\n",
    "plt.imshow(read_norm_bg(file))\n",
    "plt.grid(None)\n",
    "\n",
    "del file"
   ]
  },
  {
   "source": [
    "adjust all the data"
   ],
   "cell_type": "markdown",
   "metadata": {}
  },
  {
   "cell_type": "code",
   "execution_count": null,
   "metadata": {},
   "outputs": [],
   "source": [
    "mx = exp1.shape[0]//2\n",
    "l = 20"
   ]
  },
  {
   "source": [
    "file_exp1 = '/Users/amazonrf/Desktop/data_1109/20201119_yangzi/GVPP_#2_p4_19kx_I51.24_exp1.tif'\n",
    "file_exp2 = '/Users/amazonrf/Desktop/data_1109/20201119_yangzi/GVPP_#2_p4_19kx_I51.24_exp2.tif'\n",
    "file_exp3 = '/Users/amazonrf/Desktop/data_1109/20201119_yangzi/GVPP_#2_p4_19kx_I51.24_exp3.tif'\n",
    "file_exp4 = '/Users/amazonrf/Desktop/data_1109/20201119_yangzi/GVPP_#2_p4_19kx_I51.24_exp4.tif'\n",
    "\n",
    "exp1 = read_norm_bg(file_exp1)[mx-l:mx+l,mx-l:mx+l]\n",
    "exp2 = read_norm_bg(file_exp2)[mx-l:mx+l,mx-l:mx+l]\n",
    "exp3 = read_norm_bg(file_exp3)[mx-l:mx+l,mx-l:mx+l]\n",
    "exp4 = read_norm_bg(file_exp4)[mx-l:mx+l,mx-l:mx+l]\n",
    "\n",
    "del file_exp1,file_exp2,file_exp3,file_exp4"
   ],
   "cell_type": "code",
   "metadata": {},
   "execution_count": null,
   "outputs": []
  },
  {
   "cell_type": "code",
   "execution_count": null,
   "metadata": {},
   "outputs": [],
   "source": [
    "file_cool_1 = '/Users/amazonrf/Desktop/data_1109/20201119_yangzi/GVPP_#2_p4_19kx_I51.24_cool1.tif'\n",
    "file_cool_2= '/Users/amazonrf/Desktop/data_1109/20201119_yangzi/GVPP_#2_p4_19kx_I51.24_cool2.tif'\n",
    "file_cool_3 = '/Users/amazonrf/Desktop/data_1109/20201119_yangzi/GVPP_#2_p4_19kx_I51.24_cool3.tif'\n",
    "file_cool_4 = '/Users/amazonrf/Desktop/data_1109/20201119_yangzi/GVPP_#2_p4_19kx_I51.24_cool4.tif'\n",
    "file_cool_5 = '/Users/amazonrf/Desktop/data_1109/20201119_yangzi/GVPP_#2_p4_19kx_I51.24_cool5.tif'\n",
    "file_cool_6 = '/Users/amazonrf/Desktop/data_1109/20201119_yangzi/GVPP_#2_p4_19kx_I51.24_cool6.tif'\n",
    "file_cool_7 = '/Users/amazonrf/Desktop/data_1109/20201119_yangzi/GVPP_#2_p4_19kx_I51.24_cool7.tif'\n",
    "file_cool_8 = '/Users/amazonrf/Desktop/data_1109/20201119_yangzi/GVPP_#2_p4_19kx_I51.24_cool8.tif'\n",
    "file_cool_9 = '/Users/amazonrf/Desktop/data_1109/20201119_yangzi/GVPP_#2_p4_19kx_I51.24_cool9.tif'\n",
    "file_cool_10 = '/Users/amazonrf/Desktop/data_1109/20201119_yangzi/GVPP_#2_p4_19kx_I51.24_cool10.tif'\n",
    "file_cool_11 = '/Users/amazonrf/Desktop/data_1109/20201119_yangzi/GVPP_#2_p4_19kx_I51.24_cool11.tif'\n",
    "file_cool_12 = '/Users/amazonrf/Desktop/data_1109/20201119_yangzi/GVPP_#2_p4_19kx_I51.24_cool12.tif'\n",
    "file_cool_13 = '/Users/amazonrf/Desktop/data_1109/20201119_yangzi/GVPP_#2_p4_19kx_I51.24_cool13.tif'\n",
    "\n",
    "cool1 = read_norm_bg(file_cool_1)[mx-l:mx+l,mx-l:mx+l]\n",
    "cool2 = read_norm_bg(file_cool_2)[mx-l:mx+l,mx-l:mx+l]\n",
    "cool3 = read_norm_bg(file_cool_3)[mx-l:mx+l,mx-l:mx+l]\n",
    "cool4 = read_norm_bg(file_cool_4)[mx-l:mx+l,mx-l:mx+l]\n",
    "cool5 = read_norm_bg(file_cool_5)[mx-l:mx+l,mx-l:mx+l]\n",
    "cool6 = read_norm_bg(file_cool_6)[mx-l:mx+l,mx-l:mx+l]\n",
    "cool7 = read_norm_bg(file_cool_7)[mx-l:mx+l,mx-l:mx+l]\n",
    "cool8 = read_norm_bg(file_cool_8)[mx-l:mx+l,mx-l:mx+l]\n",
    "cool9 = read_norm_bg(file_cool_9)[mx-l:mx+l,mx-l:mx+l]\n",
    "cool10 = read_norm_bg(file_cool_10)[mx-l:mx+l,mx-l:mx+l]\n",
    "cool11 = read_norm_bg(file_cool_11)[mx-l:mx+l,mx-l:mx+l]\n",
    "cool12 = read_norm_bg(file_cool_12)[mx-l:mx+l,mx-l:mx+l]\n",
    "cool13 = read_norm_bg(file_cool_13)[mx-l:mx+l,mx-l:mx+l]\n",
    "\n",
    "del file_cool_1,file_cool_2,file_cool_3,file_cool_4,file_cool_5,file_cool_6,file_cool_7,file_cool_8,file_cool_9,file_cool_10,file_cool_11,file_cool_12,file_cool_13"
   ]
  },
  {
   "cell_type": "code",
   "execution_count": null,
   "metadata": {},
   "outputs": [],
   "source": [
    "f, ax = plt.subplots(1, 4, figsize=(20,20))\n",
    "ax[0].imshow(images[0])\n",
    "ax[0].grid(None)\n",
    "ax[1].imshow(images[1])\n",
    "ax[1].grid(None)\n",
    "ax[2].imshow(images[2])\n",
    "ax[2].grid(None)\n",
    "ax[3].imshow(images[3])\n",
    "ax[3].grid(None)"
   ]
  },
  {
   "source": [
    "以上效果不好"
   ],
   "cell_type": "markdown",
   "metadata": {}
  },
  {
   "source": [
    "## 滤波，对齐，减"
   ],
   "cell_type": "markdown",
   "metadata": {}
  },
  {
   "cell_type": "code",
   "execution_count": null,
   "metadata": {},
   "outputs": [],
   "source": [
    "import matplotlib.pyplot as plt\n",
    "import numpy as np\n",
    "import pandas as pd\n",
    "import scipy.ndimage as ndi\n",
    "import seaborn as sns\n",
    "import pyfftw\n",
    "import pyfftw.interfaces.numpy_fft as fft\n",
    "from pyem import star\n",
    "from pyem import mrc\n",
    "from pyem import geom\n",
    "from pyem import vop\n",
    "from pyem import ctf\n",
    "from skimage import io\n",
    "from PIL import Image\n",
    "sns.set()\n",
    "%matplotlib inline"
   ]
  },
  {
   "cell_type": "code",
   "execution_count": null,
   "metadata": {},
   "outputs": [],
   "source": [
    "file = '/Users/amazonrf/Desktop/data_1109/20201119_yangzi/GVPP_#2_p4_19kx_I51.24_exp1.tif'\n",
    "filet = '/Users/amazonrf/Desktop/data_1109/20201119_yangzi/GVPP_#2_p4_19kx_I51.24_cool6.tif'\n",
    "im = Image.open(file)\n",
    "imt = Image.open(filet)\n",
    "\n",
    "imarray = np.array(im)\n",
    "imarrayt = np.array(imt)\n",
    "del im,imt,file,filet\n",
    "\n",
    "def im_read(file):\n",
    "    im = Image.open(file)\n",
    "    imarray = np.array(im)\n",
    "    return imarray\n"
   ]
  },
  {
   "cell_type": "code",
   "execution_count": null,
   "metadata": {},
   "outputs": [],
   "source": [
    "imarray_f = fft.fftshift(fft.fft2(imarray))\n",
    "imarray_f_show = np.log(np.abs(imarray_f))\n",
    "\n",
    "l = imarray_f.shape[0]\n",
    "filter_x = np.linspace(-1,1,l)\n",
    "filter_xx,filter_yy = np.meshgrid(filter_x,filter_x)\n",
    "\n",
    "filter_ = filter_xx**2+ filter_yy**2\n",
    "filter_[filter_>=0.3**2] = 0\n",
    "filter_[filter_ != 0] =1\n",
    "\n",
    "del filter_x,filter_xx,filter_yy\n",
    "\n",
    "imarray_f_filter = imarray_f * filter_\n",
    "imarray_filter = fft.irfft2(fft.fftshift(imarray_f_filter)[:,0:l//2])\n",
    "\n",
    "del imarray_f,imarray_f_filter,imarray_f_show,filter_\n",
    "plt.imshow(imarray_filter[1550:1700,3130:3280])\n",
    "plt.grid(None)"
   ]
  },
  {
   "cell_type": "code",
   "execution_count": null,
   "metadata": {},
   "outputs": [],
   "source": [
    "def nxcor(img):\n",
    "    template = imarray[1550:1700,3130:3280]\n",
    "    # img = imarrayt\n",
    "    imgf = fft.rfft2(fft.fftshift(img))\n",
    "    tpad = np.pad(template,\n",
    "                [(img.shape[0] - template.shape[0]) // 2,\n",
    "                (img.shape[1] - template.shape[1]) // 2],\n",
    "                mode='constant')\n",
    "    tpadf = fft.rfft2(fft.fftshift(tpad))\n",
    "    nxcor = fft.fftshift(fft.irfft2( imgf * tpadf.conj() /\n",
    "                                (np.abs(imgf) * np.abs(tpadf)) ))\n",
    "\n",
    "    return np.unravel_index(np.argmax(nxcor), nxcor.shape)"
   ]
  },
  {
   "cell_type": "code",
   "execution_count": null,
   "metadata": {},
   "outputs": [],
   "source": [
    "nxcor(imarray)"
   ]
  },
  {
   "cell_type": "code",
   "execution_count": null,
   "metadata": {},
   "outputs": [],
   "source": [
    "plt.imshow(imarray_filter[1625-75:1625+75, 3207-75:3207+75])"
   ]
  },
  {
   "cell_type": "code",
   "execution_count": null,
   "metadata": {},
   "outputs": [],
   "source": [
    "bgn ='/Users/amazonrf/Desktop/data_1109/20201119_yangzi/camera_background.tif'\n",
    "\n",
    "file_exp1 = '/Users/amazonrf/Desktop/data_1109/20201119_yangzi/GVPP_#2_p4_19kx_I51.24_exp1.tif'\n",
    "file_exp2 = '/Users/amazonrf/Desktop/data_1109/20201119_yangzi/GVPP_#2_p4_19kx_I51.24_exp2.tif'\n",
    "file_exp3 = '/Users/amazonrf/Desktop/data_1109/20201119_yangzi/GVPP_#2_p4_19kx_I51.24_exp3.tif'\n",
    "file_exp4 = '/Users/amazonrf/Desktop/data_1109/20201119_yangzi/GVPP_#2_p4_19kx_I51.24_exp4.tif'\n",
    "\n",
    "file_cool_1 = '/Users/amazonrf/Desktop/data_1109/20201119_yangzi/GVPP_#2_p4_19kx_I51.24_cool1.tif'\n",
    "file_cool_2= '/Users/amazonrf/Desktop/data_1109/20201119_yangzi/GVPP_#2_p4_19kx_I51.24_cool2.tif'\n",
    "file_cool_3 = '/Users/amazonrf/Desktop/data_1109/20201119_yangzi/GVPP_#2_p4_19kx_I51.24_cool3.tif'\n",
    "file_cool_4 = '/Users/amazonrf/Desktop/data_1109/20201119_yangzi/GVPP_#2_p4_19kx_I51.24_cool4.tif'\n",
    "file_cool_5 = '/Users/amazonrf/Desktop/data_1109/20201119_yangzi/GVPP_#2_p4_19kx_I51.24_cool5.tif'\n",
    "file_cool_6 = '/Users/amazonrf/Desktop/data_1109/20201119_yangzi/GVPP_#2_p4_19kx_I51.24_cool6.tif'\n",
    "file_cool_7 = '/Users/amazonrf/Desktop/data_1109/20201119_yangzi/GVPP_#2_p4_19kx_I51.24_cool7.tif'\n",
    "file_cool_8 = '/Users/amazonrf/Desktop/data_1109/20201119_yangzi/GVPP_#2_p4_19kx_I51.24_cool8.tif'\n",
    "file_cool_9 = '/Users/amazonrf/Desktop/data_1109/20201119_yangzi/GVPP_#2_p4_19kx_I51.24_cool9.tif'\n",
    "file_cool_10 = '/Users/amazonrf/Desktop/data_1109/20201119_yangzi/GVPP_#2_p4_19kx_I51.24_cool10.tif'\n",
    "file_cool_11 = '/Users/amazonrf/Desktop/data_1109/20201119_yangzi/GVPP_#2_p4_19kx_I51.24_cool11.tif'\n",
    "file_cool_12 = '/Users/amazonrf/Desktop/data_1109/20201119_yangzi/GVPP_#2_p4_19kx_I51.24_cool12.tif'\n",
    "file_cool_13 = '/Users/amazonrf/Desktop/data_1109/20201119_yangzi/GVPP_#2_p4_19kx_I51.24_cool13.tif'\n",
    "\n",
    "im_name = [file_exp1,file_exp2,file_exp3,file_exp4,file_cool_1,file_cool_2,file_cool_3,file_cool_4,file_cool_5,file_cool_6,file_cool_7,file_cool_8,file_cool_9,file_cool_10,file_cool_11,file_cool_12,file_cool_13]\n",
    "\n",
    "num = 0\n",
    "images = np.zeros([17,4096,4096])\n",
    "for im_n in im_name:\n",
    "    images[num,:,:] = im_read(im_n)\n",
    "    num = num+1"
   ]
  },
  {
   "cell_type": "code",
   "execution_count": null,
   "metadata": {},
   "outputs": [],
   "source": [
    "distan = np.zeros([17,2])\n",
    "num = 0\n",
    "\n",
    "for im in images:\n",
    "    distan[num,:]=nxcor(im)\n",
    "    num = num+1"
   ]
  },
  {
   "cell_type": "code",
   "execution_count": null,
   "metadata": {},
   "outputs": [],
   "source": [
    "print(distan)\n",
    "print(distan[1,0])"
   ]
  },
  {
   "cell_type": "code",
   "execution_count": null,
   "metadata": {},
   "outputs": [],
   "source": [
    "def filter_(imarray,wind):\n",
    "    imarray_f = fft.fftshift(fft.fft2(imarray))\n",
    "    imarray_f_show = np.log(np.abs(imarray_f))\n",
    "\n",
    "    l = imarray_f.shape[0]\n",
    "    filter_x = np.linspace(-1,1,l)\n",
    "    filter_xx,filter_yy = np.meshgrid(filter_x,filter_x)\n",
    "\n",
    "    filter_ = filter_xx**2+ filter_yy**2\n",
    "    filter_[filter_>=wind**2] = 0\n",
    "    filter_[filter_ != 0] =1\n",
    "\n",
    "    del filter_x,filter_xx,filter_yy\n",
    "\n",
    "    imarray_f_filter = imarray_f * filter_\n",
    "    imarray_filter = fft.irfft2(fft.fftshift(imarray_f_filter)[:,0:l//2+1])\n",
    "\n",
    "    return imarray_filter"
   ]
  },
  {
   "cell_type": "code",
   "execution_count": null,
   "metadata": {},
   "outputs": [],
   "source": [
    "move_dis = distan-[1615,3205]\n",
    "images_new = np.zeros([17,4096,4096])\n",
    "\n",
    "bg = im_read(bgn)\n",
    "\n",
    "bg = filter_(bg,0.3)\n",
    "bg = 255*(bg-np.min(bg))/(np.max(bg)-np.min(bg))\n",
    "\n",
    "\n",
    "for i in range(17):\n",
    "    x = int(move_dis[i,0])\n",
    "    y = int(move_dis[i,1])\n",
    "    images_new[i,:,:] = filter_(images_new[i,:,:],0.2)\n",
    "    # images[i,:,:] = 255*(images[i,:,:]-np.min(images[i,:,:]))/(np.max(images[i,:,:])-np.min(images[i,:,:]))-bg\n",
    "    images_new[i,0:4096-x,0:4096-y] = images[i,x:,y:]\n",
    "    \n",
    "\n",
    "\n",
    "\n"
   ]
  },
  {
   "cell_type": "code",
   "execution_count": null,
   "metadata": {},
   "outputs": [],
   "source": [
    "mean_c = np.mean(images_new[0][1000:1500,2000:2500])\n",
    "res = np.zeros(17)\n",
    "for j in range(17):\n",
    "    mean_v = np.mean(images_new[j][1000:1500,2000:2500]) - mean_c\n",
    "    print(mean_v)\n",
    "    # images_new[i,:,:] = images_new[i,:,:]-mean_v\n",
    "    res[j] = (np.mean(images_new[j][2000:2050,2000:2050])-mean_v)\n",
    "\n",
    "plt.plot(res[0:])\n"
   ]
  },
  {
   "cell_type": "code",
   "execution_count": null,
   "metadata": {},
   "outputs": [],
   "source": [
    "from skimage import data, exposure, img_as_float\n",
    "import matplotlib.pyplot as plt"
   ]
  },
  {
   "cell_type": "code",
   "execution_count": null,
   "metadata": {
    "tags": []
   },
   "outputs": [],
   "source": [
    "ee0 = images_new[0][1900:2200,1900:2200].copy()\n",
    "ee1 = images_new[1][1900:2200,1900:2200].copy()\n",
    "ee2 = images_new[2][1900:2200,1900:2200].copy()\n",
    "ee3 = images_new[3][1900:2200,1900:2200].copy()\n",
    "ee4 = images_new[4][1900:2200,1900:2200].copy()\n",
    "ee5 = images_new[5][1900:2200,1900:2200].copy()\n",
    "ee6 = images_new[6][1900:2200,1900:2200].copy()\n",
    "ee7 = images_new[7][1900:2200,1900:2200].copy()\n",
    "ee8 = images_new[8][1900:2200,1900:2200].copy()\n",
    "ee9 = images_new[9][1900:2200,1900:2200].copy()\n",
    "ee10 = images_new[10][1900:2200,1900:2200].copy()\n",
    "ee11 = images_new[11][1900:2200,1900:2200].copy()\n",
    "ee12 = images_new[12][1900:2200,1900:2200].copy()\n",
    "ee13 = images_new[13][1900:2200,1900:2200].copy()\n",
    "ee14 = images_new[14][1900:2200,1900:2200].copy()\n",
    "ee15 = images_new[15][1900:2200,1900:2200].copy()\n",
    "ee16 = images_new[16][1900:2200,1900:2200].copy()\n",
    "\n",
    "\n",
    "ee_list = [ee0,ee1,ee2,ee3,ee4,ee5,ee6,ee7,ee8,ee9,ee10,ee11,ee12,ee13,ee14,ee15,ee16]\n",
    "cc = exposure.adjust_gamma(exposure.rescale_intensity(ee0), 1)   #调暗\n",
    "\n",
    "gg = np.linspace(0.96,1,400)\n",
    "gg2 = np.linspace(1,1.04,400)\n",
    "\n",
    "res = []\n",
    "res.append(1)\n",
    "num = 0\n",
    "ee_list2 = ee_list.copy()\n",
    "res2 = []\n",
    "for ee in ee_list:\n",
    "    # g_1 = []\n",
    "    # abs1 = []\n",
    "    ee2 = exposure.rescale_intensity(ee)\n",
    "    res2.append(np.mean(ee2[100:150,100:150]))\n",
    "    # ee1 = exposure.rescale_intensity(ee1)\n",
    "    # for g in gg:\n",
    "    #     eee1 = exposure.adjust_gamma(ee1, g)  #调亮\n",
    "    #     # print(1,np.abs(np.mean(eee1[0:50,250:])-np.mean(cc[0:50,250:])),g)\n",
    "    #     if(np.abs(np.mean(eee1[0:50,250:])-np.mean(cc[0:50,250:]))<1):\n",
    "    #         # print(1,np.abs(np.mean(eee1[0:50,250:])-np.mean(cc[0:50,250:])),g)\n",
    "    #         g_1.append(g)\n",
    "    #         abs1.append(np.abs(np.mean(eee1[0:50,250:])-np.mean(cc[0:50,250:])))\n",
    "\n",
    "    # if len(abs1)==0:\n",
    "    #     for g in gg2:\n",
    "    #         eee1 = exposure.adjust_gamma(ee1, g)  #调亮\n",
    "    #         if(np.abs(np.mean(eee1[0:50,250:])-np.mean(cc[0:50,250:]))<1):\n",
    "    #             # print(2,np.abs(np.mean(eee1[0:50,250:])-np.mean(cc[0:50,250:])),g)\n",
    "    #             g_1.append(g)\n",
    "    #             abs1.append(np.abs(np.mean(eee1[0:50,250:])-np.mean(cc[0:50,250:])))\n",
    "\n",
    "    # res.append(g_1[abs1.index(min(abs1))])\n",
    "\n",
    "plt.plot(res2)\n"
   ]
  },
  {
   "cell_type": "code",
   "execution_count": null,
   "metadata": {},
   "outputs": [],
   "source": [
    "# av2 = np.zeros(17)\n",
    "# av2[0] = np.mean(exposure.adjust_gamma(ee0, res[0])[100:200,100:150])\n",
    "# av2[1] = np.mean(exposure.adjust_gamma(ee1, res[1])[100:200,100:200])\n",
    "# av2[2] = np.mean(exposure.adjust_gamma(ee2, res[2])[100:200,100:150])\n",
    "# av2[3] = np.mean(exposure.adjust_gamma(ee3, res[3])[100:200,100:150])\n",
    "\n",
    "# av2[4] = np.mean(exposure.adjust_gamma(ee4, res[4])[100:200,100:150])\n",
    "# av2[5] = np.mean(exposure.adjust_gamma(ee5, res[5])[100:200,100:150])\n",
    "# av2[6] = np.mean(exposure.adjust_gamma(ee6, res[6])[100:200,100:150])\n",
    "# av2[7] = np.mean(exposure.adjust_gamma(ee7, res[7])[100:200,100:150])\n",
    "\n",
    "# av2[8] = np.mean(exposure.adjust_gamma(ee8, res[8])[100:200,100:150])\n",
    "# av2[9] = np.mean(exposure.adjust_gamma(ee9, res[9])[100:200,100:150])\n",
    "# av2[10] = np.mean(exposure.adjust_gamma(ee10, res[10])[100:200,100:150])\n",
    "# av2[11] = np.mean(exposure.adjust_gamma(ee11, res[11])[100:200,100:150])\n",
    "\n",
    "# av2[12] = np.mean(exposure.adjust_gamma(ee12, res[12])[100:200,100:150])\n",
    "# av2[13] = np.mean(exposure.adjust_gamma(ee13, res[13])[100:200,100:150])\n",
    "# av2[14] = np.mean(exposure.adjust_gamma(ee14, res[14])[100:200,100:150])\n",
    "# av2[15] = np.mean(exposure.adjust_gamma(ee15, res[15])[100:200,100:150])\n",
    "\n",
    "# av2[16] = np.mean(exposure.adjust_gamma(ee16, res[16])[100:200,100:150])\n",
    "\n",
    "num = 0\n",
    "av2 = np.zeros(17)\n",
    "for imm in ee_list2:\n",
    "    av2[num] = np.mean(imm[100:150,100:150])\n",
    "    print(av2[num])\n",
    "    # av2[num] = np.mean(exposure.adjust_gamma(imm, res[num])[100:200,100:150])/np.mean(exposure.adjust_gamma(imm, res[num])[0:50,250:])\n",
    "    num = num+1\n",
    "\n",
    "plt.plot(av2)"
   ]
  },
  {
   "cell_type": "code",
   "execution_count": null,
   "metadata": {},
   "outputs": [],
   "source": [
    "print(np.mean(ee_list2[0][100:150,100:150]))"
   ]
  },
  {
   "cell_type": "code",
   "execution_count": null,
   "metadata": {},
   "outputs": [],
   "source": [
    "import cv2\n",
    "import numpy as np\n",
    "  \n",
    "# robert 算子[[-1,-1],[1,1]]\n",
    "def robert_suanzi(img):\n",
    "  r, c = img.shape\n",
    "  r_sunnzi = [[-1,-1],[1,1]]\n",
    "  for x in range(r):\n",
    "    for y in range(c):\n",
    "      if (y + 2 <= c) and (x + 2 <= r):\n",
    "        imgChild = img[x:x+2, y:y+2]\n",
    "        list_robert = r_sunnzi*imgChild\n",
    "        img[x, y] = abs(list_robert.sum())   # 求和加绝对值\n",
    "  return img\n",
    "          \n",
    "# # sobel算子的实现\n",
    "def sobel_suanzi(img):\n",
    "  r, c = img.shape\n",
    "  new_image = np.zeros((r, c))\n",
    "  new_imageX = np.zeros(img.shape)\n",
    "  new_imageY = np.zeros(img.shape)\n",
    "  s_suanziX = np.array([[-1,0,1],[-2,0,2],[-1,0,1]])   # X方向\n",
    "  s_suanziY = np.array([[-1,-2,-1],[0,0,0],[1,2,1]])   \n",
    "  for i in range(r-2):\n",
    "    for j in range(c-2):\n",
    "      new_imageX[i+1, j+1] = abs(np.sum(img[i:i+3, j:j+3] * s_suanziX))\n",
    "      new_imageY[i+1, j+1] = abs(np.sum(img[i:i+3, j:j+3] * s_suanziY))\n",
    "      new_image[i+1, j+1] = (new_imageX[i+1, j+1]*new_imageX[i+1,j+1] + new_imageY[i+1, j+1]*new_imageY[i+1,j+1])**0.5\n",
    "  # return np.uint8(new_imageX)\n",
    "  # return np.uint8(new_imageY)\n",
    "  return np.uint8(new_image) # 无方向算子处理的图像\n",
    "  \n",
    "# Laplace算子\n",
    "# 常用的Laplace算子模板 [[0,1,0],[1,-4,1],[0,1,0]]  [[1,1,1],[1,-8,1],[1,1,1]]\n",
    "def Laplace_suanzi(img):\n",
    "  r, c = img.shape\n",
    "  new_image = np.zeros((r, c))\n",
    "  L_sunnzi = np.array([[0,-1,0],[-1,4,-1],[0,-1,0]])   \n",
    "  # L_sunnzi = np.array([[1,1,1],[1,-8,1],[1,1,1]])   \n",
    "  for i in range(r-2):\n",
    "    for j in range(c-2):\n",
    "      new_image[i+1, j+1] = abs(np.sum(img[i:i+3, j:j+3] * L_sunnzi))\n",
    "  return np.uint8(new_image)\n",
    "  \n",
    "  \n",
    "img = cv2.imread(file_cool_6, cv2.IMREAD_GRAYSCALE)\n",
    "cv2.imshow('image', img)\n",
    "\n",
    "cv2.waitKey(0)\n",
    "cv2.destroyAllWindows()"
   ]
  },
  {
   "cell_type": "code",
   "execution_count": null,
   "metadata": {},
   "outputs": [],
   "source": []
  }
 ],
 "metadata": {
  "kernelspec": {
   "display_name": "Python 3",
   "language": "python",
   "name": "python3"
  },
  "language_info": {
   "codemirror_mode": {
    "name": "ipython",
    "version": 3
   },
   "file_extension": ".py",
   "mimetype": "text/x-python",
   "name": "python",
   "nbconvert_exporter": "python",
   "pygments_lexer": "ipython3",
   "version": "3.8.6-final"
  },
  "toc": {
   "base_numbering": 1,
   "nav_menu": {},
   "number_sections": true,
   "sideBar": true,
   "skip_h1_title": false,
   "title_cell": "Table of Contents",
   "title_sidebar": "Contents",
   "toc_cell": false,
   "toc_position": {},
   "toc_section_display": true,
   "toc_window_display": false
  }
 },
 "nbformat": 4,
 "nbformat_minor": 2
}